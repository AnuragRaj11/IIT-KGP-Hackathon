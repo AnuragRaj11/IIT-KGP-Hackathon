{
  "nbformat": 4,
  "nbformat_minor": 0,
  "metadata": {
    "colab": {
      "provenance": [],
      "mount_file_id": "1TIlaABR9gxev55zc_HjVaWoFUnnmnB6W",
      "authorship_tag": "ABX9TyMxMnbFh2LKzmtNdZR7jMiV",
      "include_colab_link": true
    },
    "kernelspec": {
      "name": "python3",
      "display_name": "Python 3"
    },
    "language_info": {
      "name": "python"
    }
  },
  "cells": [
    {
      "cell_type": "markdown",
      "metadata": {
        "id": "view-in-github",
        "colab_type": "text"
      },
      "source": [
        "<a href=\"https://colab.research.google.com/github/AnuragRaj11/IIT-KGP-Hackathon/blob/main/Solution.ipynb\" target=\"_parent\"><img src=\"https://colab.research.google.com/assets/colab-badge.svg\" alt=\"Open In Colab\"/></a>"
      ]
    },
    {
      "cell_type": "code",
      "source": [
        "import pandas as pd\n",
        "import numpy as np\n",
        "from sklearn.model_selection import train_test_split, GridSearchCV\n",
        "from sklearn.preprocessing import StandardScaler\n",
        "from xgboost import XGBClassifier, XGBRegressor\n",
        "from sklearn.metrics import (accuracy_score, confusion_matrix, classification_report, mean_squared_error, r2_score)\n",
        "from imblearn.over_sampling import SMOTE\n",
        "import shap"
      ],
      "metadata": {
        "id": "z7k9pfb0I4XF"
      },
      "execution_count": 6,
      "outputs": []
    },
    {
      "cell_type": "code",
      "source": [
        "df = pd.read_excel(\"dataset_excavate.xlsx\")\n"
      ],
      "metadata": {
        "id": "1lbp1CqeJmRN"
      },
      "execution_count": 7,
      "outputs": []
    },
    {
      "cell_type": "code",
      "source": [
        "print(df.columns.tolist())"
      ],
      "metadata": {
        "id": "2fHl0bR0MMnz",
        "outputId": "8f99b1dc-0726-496c-930c-2d4f9cf2ac31",
        "colab": {
          "base_uri": "https://localhost:8080/"
        }
      },
      "execution_count": 9,
      "outputs": [
        {
          "output_type": "stream",
          "name": "stdout",
          "text": [
            "['functional group', 'A', 'A_OS', \"A'\", \"A'_OS\", 'A_HOMO-', 'A_HOMO+', 'A_IE-', 'A_IE+', 'A_LUMO-', 'A_LUMO+', 'A_X-', 'A_X+', 'A_Z_radii-', 'A_Z_radii+', 'A_e_affin-', 'A_e_affin+', 'Bi', 'B_OS', \"B'\", \"B'_OS\", 'B_HOMO-', 'B_HOMO+', 'B_IE-', 'B_IE+', 'B_LUMO-', 'B_LUMO+', 'B_X-', 'B_X+', 'B_Z_radii-', 'B_Z_radii+', 'B_e_affin-', 'B_e_affin+', 'PBE band gap', 'μ', 'μĀ', 'μ𝐵\\xa0̅', 't']\n"
          ]
        }
      ]
    },
    {
      "cell_type": "code",
      "source": [
        "df['insulator'] = (df['PBE band gap'] >= 0.5).astype(int)"
      ],
      "metadata": {
        "id": "WMA--WBkJmUc"
      },
      "execution_count": 11,
      "outputs": []
    },
    {
      "cell_type": "code",
      "source": [
        "num_cols = df.select_dtypes(include=[np.number]).columns.tolist()\n",
        "features = [col for col in num_cols if col not in ['PBE band gap', 'insulator'] ]"
      ],
      "metadata": {
        "id": "_dk6JW-bJmXd"
      },
      "execution_count": 12,
      "outputs": []
    },
    {
      "cell_type": "code",
      "source": [
        "X_class = df[features]\n",
        "y_class = df['insulator']"
      ],
      "metadata": {
        "id": "f7zjRQQ8Jmal"
      },
      "execution_count": 13,
      "outputs": []
    },
    {
      "cell_type": "code",
      "source": [
        "X_train, X_test, y_train, y_test = train_test_split(X_class, y_class, test_size=0.2, random_state=42)"
      ],
      "metadata": {
        "id": "lmNqvSRPMpq0"
      },
      "execution_count": 14,
      "outputs": []
    },
    {
      "cell_type": "code",
      "source": [],
      "metadata": {
        "id": "_iKLaiBJMyHV"
      },
      "execution_count": null,
      "outputs": []
    },
    {
      "cell_type": "code",
      "source": [],
      "metadata": {
        "id": "FPKRRFZGMyKG"
      },
      "execution_count": null,
      "outputs": []
    },
    {
      "cell_type": "code",
      "source": [],
      "metadata": {
        "id": "SaB_Wi5cMyMt"
      },
      "execution_count": null,
      "outputs": []
    },
    {
      "cell_type": "code",
      "source": [],
      "metadata": {
        "id": "J5Wf21A8MyPE"
      },
      "execution_count": null,
      "outputs": []
    },
    {
      "cell_type": "code",
      "source": [],
      "metadata": {
        "id": "qTtK7kzbMyRc"
      },
      "execution_count": null,
      "outputs": []
    },
    {
      "cell_type": "code",
      "source": [],
      "metadata": {
        "id": "M078gstJMyUE"
      },
      "execution_count": null,
      "outputs": []
    },
    {
      "cell_type": "code",
      "source": [],
      "metadata": {
        "id": "U6UE04JSMyW2"
      },
      "execution_count": null,
      "outputs": []
    }
  ]
}